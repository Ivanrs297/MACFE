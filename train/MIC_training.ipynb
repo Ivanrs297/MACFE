{
 "cells": [
  {
   "cell_type": "code",
   "execution_count": 6,
   "metadata": {},
   "outputs": [],
   "source": [
    "from minepy import MINE\n",
    "import numpy as numpy\n",
    "import pandas as pd\n",
    "import numpy as np\n",
    "from sklearn.datasets import make_classification"
   ]
  },
  {
   "cell_type": "code",
   "execution_count": 28,
   "metadata": {},
   "outputs": [
    {
     "data": {
      "text/plain": [
       "((10, 5), (10,))"
      ]
     },
     "execution_count": 28,
     "metadata": {},
     "output_type": "execute_result"
    }
   ],
   "source": [
    "X, y = make_classification(\n",
    "    n_samples=10,\n",
    "    n_classes=2,\n",
    "    n_features=5,\n",
    "    random_state=42,\n",
    "    n_redundant = 0,\n",
    "    n_informative = 2\n",
    "    )\n",
    "X.shape, y.shape"
   ]
  },
  {
   "cell_type": "code",
   "execution_count": 29,
   "metadata": {},
   "outputs": [],
   "source": [
    "from utils import get_MIC_scores\n",
    "\n",
    "mic_scores = get_MIC_scores(X, y)\n",
    "mic_scores"
   ]
  },
  {
   "cell_type": "code",
   "execution_count": 1,
   "metadata": {},
   "outputs": [
    {
     "name": "stdout",
     "output_type": "stream",
     "text": [
      "Retrieving dataset #: 0  ID:  2 , \t Name: anneal\n",
      "Retrieving dataset #: 1  ID:  4 , \t Name: labor\n",
      "Retrieving dataset #: 2  ID:  9 , \t Name: autos\n",
      "Retrieving dataset #: 3  ID:  10 , \t Name: lymph\n",
      "Retrieving dataset #: 4  ID:  11 , \t Name: balance-scale\n"
     ]
    }
   ],
   "source": [
    "from utils import download_datasets\n",
    "\n",
    "train_dataset_set = download_datasets(5)"
   ]
  },
  {
   "cell_type": "code",
   "execution_count": 21,
   "metadata": {},
   "outputs": [],
   "source": [
    "import numpy as np\n",
    "\n",
    "with open('../data/TRM_binary_set.npy', 'rb') as f:\n",
    "        a = np.load(f)"
   ]
  },
  {
   "cell_type": "code",
   "execution_count": 22,
   "metadata": {},
   "outputs": [
    {
     "data": {
      "text/plain": [
       "(1767, 152)"
      ]
     },
     "execution_count": 22,
     "metadata": {},
     "output_type": "execute_result"
    }
   ],
   "source": [
    "a.shape"
   ]
  },
  {
   "cell_type": "code",
   "execution_count": 24,
   "metadata": {},
   "outputs": [
    {
     "name": "stdout",
     "output_type": "stream",
     "text": [
      "0.0\n",
      "0.0\n",
      "1.0\n",
      "1.0\n",
      "1.0\n",
      "1.0\n",
      "1.0\n",
      "1.0\n",
      "0.0\n",
      "1.0\n",
      "0.0\n",
      "0.0\n",
      "0.0\n",
      "0.0\n",
      "0.0\n",
      "1.0\n",
      "1.0\n",
      "0.0\n",
      "1.0\n",
      "0.0\n",
      "1.0\n",
      "0.0\n",
      "0.0\n",
      "1.0\n",
      "1.0\n",
      "1.0\n",
      "1.0\n"
     ]
    }
   ],
   "source": [
    "for i in range(100):\n",
    "    if a[i][-1] != 5:\n",
    "        print(a[i][-1])"
   ]
  },
  {
   "cell_type": "code",
   "execution_count": 2,
   "metadata": {},
   "outputs": [
    {
     "name": "stdout",
     "output_type": "stream",
     "text": [
      "[3, 4, 5]\n"
     ]
    }
   ],
   "source": [
    "lines = [1, 2, 3, 4, 5]\n",
    "\n",
    "print(lines[len(lines)-3:])"
   ]
  },
  {
   "cell_type": "code",
   "execution_count": 10,
   "metadata": {},
   "outputs": [
    {
     "name": "stdout",
     "output_type": "stream",
     "text": [
      "01/Mar/2022:13:05:05 +0900\n",
      "01/Mar/2022:13:05:10 +0900\n"
     ]
    }
   ],
   "source": [
    "for line in open(\"file.txt\"):\n",
    "    print(line.split(\"[\")[1].split(\"]\")[0])"
   ]
  },
  {
   "cell_type": "code",
   "execution_count": 18,
   "metadata": {},
   "outputs": [
    {
     "name": "stdout",
     "output_type": "stream",
     "text": [
      "01/Mar/2022:13:05:05\n",
      "01/Mar/2022:13:05:10\n"
     ]
    }
   ],
   "source": [
    "for line in open(\"file.txt\", \"r\"):\n",
    "    print(line.split()[3].strip(\"[]\"))"
   ]
  },
  {
   "cell_type": "code",
   "execution_count": 16,
   "metadata": {},
   "outputs": [
    {
     "name": "stdout",
     "output_type": "stream",
     "text": [
      "\n",
      "\n"
     ]
    }
   ],
   "source": [
    "for line in open(\"file.txt\", \"r\"):\n",
    "    print(\" \".join(line.split(\"[\" or \"]\")[3:5]))"
   ]
  },
  {
   "cell_type": "code",
   "execution_count": 19,
   "metadata": {},
   "outputs": [
    {
     "name": "stdout",
     "output_type": "stream",
     "text": [
      "01/Mar/2022:13:05:05 +0900\n",
      "01/Mar/2022:13:05:10 +0900\n"
     ]
    }
   ],
   "source": [
    "for line in open(\"file.txt\", \"r\"):\n",
    "    print(\" \".join(line.split()[3:5]).strip(\"[]\"))"
   ]
  },
  {
   "cell_type": "code",
   "execution_count": null,
   "metadata": {},
   "outputs": [],
   "source": [
    "for line in open(\"file.txt\"):\n",
    "    print(re.split()[3].strip(\"[]\"))"
   ]
  },
  {
   "cell_type": "code",
   "execution_count": 20,
   "metadata": {},
   "outputs": [
    {
     "data": {
      "text/plain": [
       "14"
      ]
     },
     "execution_count": 20,
     "metadata": {},
     "output_type": "execute_result"
    }
   ],
   "source": [
    "sum(x**2 for x in [1, 2, 3] if x > 0)"
   ]
  },
  {
   "cell_type": "code",
   "execution_count": 21,
   "metadata": {},
   "outputs": [],
   "source": [
    "class FunEvent:\n",
    "    def __init__(self, tags, year):\n",
    "        self.tags = tags\n",
    "        self.year = year\n",
    "    \n",
    "    def __str__(self):\n",
    "        return f\"FunEvent(tags={self.tags}, year={self.year}\""
   ]
  },
  {
   "cell_type": "code",
   "execution_count": 26,
   "metadata": {},
   "outputs": [
    {
     "name": "stdout",
     "output_type": "stream",
     "text": [
      "FunEvent(tags=['google', 'ml', 'bootcamp'], year=2022)\n"
     ]
    }
   ],
   "source": [
    "class FunEvent:\n",
    "    def __init__(self, tags, year):\n",
    "        self.tags = tags\n",
    "        self.year = year\n",
    "    \n",
    "    def __str__(self):\n",
    "        return f\"FunEvent(tags={self.tags}, year={self.year})\"\n",
    "\n",
    "tags = [\"google\", \"ml\"]\n",
    "year = 2022\n",
    "bootcamp = FunEvent(tags, year)\n",
    "tags.append(\"bootcamp\")\n",
    "year = 2023\n",
    "print(bootcamp)"
   ]
  },
  {
   "cell_type": "code",
   "execution_count": 31,
   "metadata": {},
   "outputs": [],
   "source": [
    "\n",
    "\n",
    "def parse1():\n",
    "    for line in open(\"log.txt\"):\n",
    "        print(line.split(\"[\")[1].split(\"]\")[0])\n",
    "\n",
    "def parse2():\n",
    "    for line in open(\"log.txt\", \"r\"):\n",
    "        print(line.split()[3].strip(\"[]\"))\n",
    "\n",
    "def parse3():\n",
    "    for line in open(\"log.txt\", \"r\"):\n",
    "        print(\" \".join(line.split(\"[\" or \"]\")[3:5]))\n",
    "\n",
    "def parse4():\n",
    "    for line in open(\"log.txt\", \"rw\"):\n",
    "        print(\" \".join(line.split()[3:5]).strip(\"[]\"))\n",
    "  \n",
    "def parse5():\n",
    "    for line in open(\"log.txt\"):\n",
    "        print(re.split(\"\\[|\\]\", line)[1])"
   ]
  },
  {
   "cell_type": "code",
   "execution_count": 36,
   "metadata": {},
   "outputs": [
    {
     "ename": "NameError",
     "evalue": "name 're' is not defined",
     "output_type": "error",
     "traceback": [
      "\u001b[1;31m---------------------------------------------------------------------------\u001b[0m",
      "\u001b[1;31mNameError\u001b[0m                                 Traceback (most recent call last)",
      "\u001b[1;32m<ipython-input-36-aee186fd0990>\u001b[0m in \u001b[0;36m<module>\u001b[1;34m\u001b[0m\n\u001b[1;32m----> 1\u001b[1;33m \u001b[0mparse5\u001b[0m\u001b[1;33m(\u001b[0m\u001b[1;33m)\u001b[0m\u001b[1;33m\u001b[0m\u001b[1;33m\u001b[0m\u001b[0m\n\u001b[0m",
      "\u001b[1;32m<ipython-input-31-f870d93125c7>\u001b[0m in \u001b[0;36mparse5\u001b[1;34m()\u001b[0m\n\u001b[0;32m     17\u001b[0m \u001b[1;32mdef\u001b[0m \u001b[0mparse5\u001b[0m\u001b[1;33m(\u001b[0m\u001b[1;33m)\u001b[0m\u001b[1;33m:\u001b[0m\u001b[1;33m\u001b[0m\u001b[1;33m\u001b[0m\u001b[0m\n\u001b[0;32m     18\u001b[0m     \u001b[1;32mfor\u001b[0m \u001b[0mline\u001b[0m \u001b[1;32min\u001b[0m \u001b[0mopen\u001b[0m\u001b[1;33m(\u001b[0m\u001b[1;34m\"log.txt\"\u001b[0m\u001b[1;33m)\u001b[0m\u001b[1;33m:\u001b[0m\u001b[1;33m\u001b[0m\u001b[1;33m\u001b[0m\u001b[0m\n\u001b[1;32m---> 19\u001b[1;33m         \u001b[0mprint\u001b[0m\u001b[1;33m(\u001b[0m\u001b[0mre\u001b[0m\u001b[1;33m.\u001b[0m\u001b[0msplit\u001b[0m\u001b[1;33m(\u001b[0m\u001b[1;34m\"\\[|\\]\"\u001b[0m\u001b[1;33m,\u001b[0m \u001b[0mline\u001b[0m\u001b[1;33m)\u001b[0m\u001b[1;33m[\u001b[0m\u001b[1;36m1\u001b[0m\u001b[1;33m]\u001b[0m\u001b[1;33m)\u001b[0m\u001b[1;33m\u001b[0m\u001b[1;33m\u001b[0m\u001b[0m\n\u001b[0m",
      "\u001b[1;31mNameError\u001b[0m: name 're' is not defined"
     ]
    }
   ],
   "source": [
    "parse5()"
   ]
  },
  {
   "cell_type": "code",
   "execution_count": 37,
   "metadata": {},
   "outputs": [],
   "source": [
    "class BaseLayer:\n",
    "    def __init__(self, name=\"\"):\n",
    "        self.name = name\n",
    "\n",
    "    def __repr__(self):\n",
    "        return f\"{self.name}Layer\"\n",
    "\n",
    "class ActivationLayer(BaseLayer):\n",
    "    def __init__(self, size):\n",
    "        super().__init__(\"Activation\")\n",
    "        self.size = size\n",
    "\n",
    "class FCLayer(BaseLayer):\n",
    "    def __init__(self, size):\n",
    "        super().__init__(\"FullyConnected\")\n",
    "        self.size = size"
   ]
  },
  {
   "cell_type": "code",
   "execution_count": 38,
   "metadata": {},
   "outputs": [
    {
     "name": "stdout",
     "output_type": "stream",
     "text": [
      "FullyConnectedLayer\n"
     ]
    }
   ],
   "source": [
    "print(FCLayer(42))"
   ]
  },
  {
   "cell_type": "code",
   "execution_count": null,
   "metadata": {},
   "outputs": [],
   "source": [
    "n^2\n",
    "n\n",
    "n^2\n",
    "\n",
    "f1 = f3 > f2"
   ]
  },
  {
   "cell_type": "code",
   "execution_count": 39,
   "metadata": {},
   "outputs": [],
   "source": [
    "def f1(list_of_list):\n",
    "    result = []\n",
    "    for inner_list in list_of_list:\n",
    "        for x in inner_list:\n",
    "            if x not in result:\n",
    "                result.append(x)\n",
    "    return result\n",
    "\n",
    "def f2(list_of_list):\n",
    "    flat_list = []\n",
    "    for inner_list in list_of_list:\n",
    "        flat_list.extend(inner_list)\n",
    "    return [\n",
    "        x for i, x in enumerate(flat_list)\n",
    "        if flat_list.index(x) == i]\n",
    "\n",
    "def f3(list_of_list):\n",
    "    result = []\n",
    "    seen = set()\n",
    "    for inner_list in list_of_list:\n",
    "        for x in inner_list:\n",
    "            if x not in seen:\n",
    "                result.append(x)\n",
    "                seen.add(x)\n",
    "    return result"
   ]
  },
  {
   "cell_type": "code",
   "execution_count": 87,
   "metadata": {},
   "outputs": [],
   "source": [
    "import numpy as np\n",
    "\n",
    "a = [np.arange(100000).tolist()]"
   ]
  },
  {
   "cell_type": "code",
   "execution_count": 91,
   "metadata": {},
   "outputs": [],
   "source": [
    "b = f1(a)\n",
    "b = f1(a)"
   ]
  },
  {
   "cell_type": "code",
   "execution_count": 92,
   "metadata": {},
   "outputs": [],
   "source": [
    "c = f2(a)\n",
    "c = f2(a)"
   ]
  },
  {
   "cell_type": "code",
   "execution_count": 93,
   "metadata": {},
   "outputs": [],
   "source": [
    "d = f3(a)\n",
    "d = f3(a)"
   ]
  },
  {
   "cell_type": "code",
   "execution_count": null,
   "metadata": {},
   "outputs": [],
   "source": []
  }
 ],
 "metadata": {
  "interpreter": {
   "hash": "e17d129d6f27db8b87f58b5fa141e866dbba91479774a0f83bbb21f59b590d58"
  },
  "kernelspec": {
   "display_name": "Python 3.8.12 ('PhD')",
   "language": "python",
   "name": "python3"
  },
  "language_info": {
   "codemirror_mode": {
    "name": "ipython",
    "version": 3
   },
   "file_extension": ".py",
   "mimetype": "text/x-python",
   "name": "python",
   "nbconvert_exporter": "python",
   "pygments_lexer": "ipython3",
   "version": "3.8.12"
  },
  "orig_nbformat": 4
 },
 "nbformat": 4,
 "nbformat_minor": 2
}
